{
 "cells": [
  {
   "cell_type": "code",
   "execution_count": 22,
   "metadata": {},
   "outputs": [],
   "source": [
    "import tensorflow as tf\n",
    "import seaborn as sns    \n",
    "import re\n",
    "import pandas as pd\n",
    "import os\n",
    "import numpy as np\n",
    "import matplotlib.pyplot as plt\n",
    "import matplotlib.font_manager as fm\n",
    "import matplotlib as mpl\n",
    "import lime.lime_tabular\n",
    "import lime\n",
    "import keras.preprocessing.text\n",
    "import keras\n",
    "import datetime \n",
    "import copy\n",
    "from sklearn.svm import SVC\n",
    "from sklearn.preprocessing import StandardScaler\n",
    "from sklearn.preprocessing import OneHotEncoder\n",
    "from sklearn.preprocessing import MinMaxScaler\n",
    "from sklearn.preprocessing import LabelBinarizer\n",
    "from sklearn.model_selection import train_test_split\n",
    "from sklearn.metrics import mean_squared_error\n",
    "from sklearn.metrics import confusion_matrix\n",
    "from sklearn.metrics import classification_report\n",
    "from sklearn.metrics import accuracy_score\n",
    "from sklearn.ensemble import RandomForestClassifier\n",
    "from sklearn import linear_model\n",
    "from random import *\n",
    "from keras.preprocessing import sequence\n",
    "from keras.models import Sequential\n",
    "from keras.layers import Dropout\n",
    "from keras.layers import Dense, Dropout, Flatten\n",
    "from keras.layers import Dense, Dropout, Embedding, LSTM, Bidirectional,SpatialDropout1D, MaxPooling1D\n",
    "from keras.layers import Conv2D, MaxPooling2D\n",
    "from keras.callbacks import EarlyStopping\n",
    "from keras import backend as K\n",
    "%matplotlib inline\n",
    "plt.rc('font', family='NanumBarunGothicOTF')\n",
    "mpl.rcParams['axes.unicode_minus'] = False"
   ]
  },
  {
   "cell_type": "code",
   "execution_count": 23,
   "metadata": {},
   "outputs": [],
   "source": [
    "early_stopping = EarlyStopping(monitor='val_loss',patience=100,restore_best_weights=True)"
   ]
  },
  {
   "cell_type": "markdown",
   "metadata": {},
   "source": [
    "### - 띄워쓰기 없는 부분 추가 : 1회만"
   ]
  },
  {
   "cell_type": "code",
   "execution_count": 3,
   "metadata": {},
   "outputs": [],
   "source": [
    "# def inplace_change(filename, old_string, new_string):\n",
    "#     with open(filename, 'r') as f:\n",
    "#         print(f)\n",
    "#         s = f.read()\n",
    "#         s = re.sub(old_string, new_string, s)\n",
    "        \n",
    "#     with open(filename, 'w+') as f:\n",
    "#         #print('Changing \"{old_string}\" to \"{new_string}\" in {filename}'.format(**locals()))\n",
    "#         print(s)\n",
    "#         f.write(s)    \n",
    "        \n",
    "# directory = \"./위성/VIS/\"\n",
    "# f_list = os.listdir(directory)\n",
    "\n",
    "# f_list.sort()\n",
    "# temp = pd.DataFrame()\n",
    "\n",
    "# for f in f_list:\n",
    "#     #print(f)\n",
    "#     inplace_change(directory + f,'[^\\S\\r\\n]*-', ' -')"
   ]
  },
  {
   "cell_type": "markdown",
   "metadata": {},
   "source": [
    "## 날짜 정보 추출"
   ]
  },
  {
   "cell_type": "code",
   "execution_count": 24,
   "metadata": {},
   "outputs": [],
   "source": [
    "directory = \"./위성/CDOM/\"\n",
    "f_list = os.listdir(directory)\n",
    "\n",
    "date_list = []\n",
    "for f in f_list:\n",
    "    date_list.append(f[3:13])"
   ]
  },
  {
   "cell_type": "code",
   "execution_count": 5,
   "metadata": {},
   "outputs": [],
   "source": [
    "date_list.sort()"
   ]
  },
  {
   "cell_type": "markdown",
   "metadata": {},
   "source": [
    "## 수치모형 데이터 로드"
   ]
  },
  {
   "cell_type": "code",
   "execution_count": 25,
   "metadata": {},
   "outputs": [],
   "source": [
    "directory = \"./수치모형/temperature/\"\n",
    "vname = \"temperature_\"\n",
    "temp_arr = []\n",
    "for d in date_list:\n",
    "    temp = pd.read_csv(directory + vname + str(d) +\".csv\",header=None,index_col=0)\n",
    "    temp = temp.reset_index(drop=True)\n",
    "    temp_arr.append(np.array(temp).tolist())  \n",
    "    \n",
    "directory = \"./수치모형/salinity/\"\n",
    "vname = \"salinity_\"\n",
    "salinity_arr = []\n",
    "for d in date_list:\n",
    "    salinity = pd.read_csv(directory + vname + str(d) +\".csv\",header=None,index_col=0)\n",
    "    salinity = salinity.reset_index(drop=True)\n",
    "    salinity_arr.append(np.array(salinity).tolist())  \n",
    "    \n",
    "directory = \"./수치모형/velocity/\"\n",
    "vname = \"velocity_\"\n",
    "velocity_arr = []\n",
    "for d in date_list:\n",
    "    velocity = pd.read_csv(directory + vname + str(d) +\".csv\",header=None,index_col=0)\n",
    "    velocity = velocity.reset_index(drop=True)\n",
    "    velocity_arr.append(np.array(velocity).tolist())  \n",
    "    \n",
    "directory = \"./수치모형/waterlevel/\"\n",
    "vname = \"waterlevel_\"\n",
    "waterlevel_arr = []\n",
    "for d in date_list:\n",
    "    waterlevel = pd.read_csv(directory + vname + str(d) +\".csv\",header=None,index_col=0)\n",
    "    waterlevel = waterlevel.reset_index(drop=True)\n",
    "    waterlevel_arr.append(np.array(waterlevel).tolist())  "
   ]
  },
  {
   "cell_type": "markdown",
   "metadata": {},
   "source": [
    "## 위성 데이터 로드"
   ]
  },
  {
   "cell_type": "code",
   "execution_count": 26,
   "metadata": {},
   "outputs": [],
   "source": [
    "directory = \"./위성/CDOM/\"\n",
    "f_list = os.listdir(directory)\n",
    "\n",
    "f_list.sort()\n",
    "temp = pd.DataFrame()\n",
    "cdom_result_arr = []\n",
    "\n",
    "for idx,f in enumerate(f_list):\n",
    "    #print(f)\n",
    "    temp = pd.read_csv(directory + f, sep='\\s+', header=None)\n",
    "    cdom_result_arr.append(np.array(temp).tolist())   \n",
    "    \n",
    "directory = \"./위성/CHLA/\"\n",
    "f_list = os.listdir(directory)\n",
    "\n",
    "f_list.sort()\n",
    "temp = pd.DataFrame()\n",
    "chla_result_arr = []\n",
    "\n",
    "for idx,f in enumerate(f_list):\n",
    "    #print(f)\n",
    "    temp = pd.read_csv(directory + f, sep='\\s+', header=None)\n",
    "    chla_result_arr.append(np.array(temp).tolist())   \n",
    "    \n",
    "    \n",
    "directory = \"./위성/TSS/\"\n",
    "f_list = os.listdir(directory)\n",
    "\n",
    "f_list.sort()\n",
    "temp = pd.DataFrame()\n",
    "tss_result_arr = []\n",
    "\n",
    "for idx,f in enumerate(f_list):\n",
    "    #print(f)\n",
    "    temp = pd.read_csv(directory + f, sep='\\s+', header=None)\n",
    "    tss_result_arr.append(np.array(temp).tolist())   \n",
    "    \n",
    "    \n",
    "directory = \"./위성/VIS/\"\n",
    "f_list = os.listdir(directory)\n",
    "\n",
    "f_list.sort()\n",
    "temp = pd.DataFrame()\n",
    "vis_result_arr = []\n",
    "\n",
    "for idx,f in enumerate(f_list):\n",
    "    #print(f)\n",
    "    temp = pd.read_csv(directory + f, sep='\\s+', header=None)\n",
    "    vis_result_arr.append(np.array(temp).tolist())   "
   ]
  },
  {
   "cell_type": "markdown",
   "metadata": {},
   "source": [
    "## 데이터 배열형태로 변환"
   ]
  },
  {
   "cell_type": "code",
   "execution_count": 27,
   "metadata": {},
   "outputs": [],
   "source": [
    "cdom_result_arr = np.array(cdom_result_arr)\n",
    "chla_result_arr = np.array(chla_result_arr)\n",
    "tss_result_arr = np.array(tss_result_arr)\n",
    "vis_result_arr = np.array(vis_result_arr)\n",
    "temp_arr = np.array(temp_arr)\n",
    "salinity_arr = np.array(salinity_arr)\n",
    "waterlevel_arr = np.array(waterlevel_arr)\n",
    "velocity_arr = np.array(velocity_arr)"
   ]
  },
  {
   "cell_type": "code",
   "execution_count": 28,
   "metadata": {},
   "outputs": [],
   "source": [
    "n = cdom_result_arr.shape[0]\n",
    "w = cdom_result_arr.shape[1]\n",
    "h = cdom_result_arr.shape[2]\n",
    "c = 1"
   ]
  },
  {
   "cell_type": "markdown",
   "metadata": {},
   "source": [
    "## 데이터 차원수 체크"
   ]
  },
  {
   "cell_type": "code",
   "execution_count": 29,
   "metadata": {},
   "outputs": [
    {
     "name": "stdout",
     "output_type": "stream",
     "text": [
      "(1331, 48, 27)\n",
      "(1331, 48, 27)\n",
      "(1331, 48, 27)\n"
     ]
    }
   ],
   "source": [
    "print(cdom_result_arr.shape)\n",
    "print(tss_result_arr.shape)\n",
    "print(vis_result_arr.shape)"
   ]
  },
  {
   "cell_type": "markdown",
   "metadata": {},
   "source": [
    "## 데이터 결합"
   ]
  },
  {
   "cell_type": "code",
   "execution_count": 30,
   "metadata": {},
   "outputs": [
    {
     "name": "stdout",
     "output_type": "stream",
     "text": [
      "(1331, 48, 27, 1)\n"
     ]
    }
   ],
   "source": [
    "# Best 경우\n",
    "cdom_result_arr= cdom_result_arr.reshape(n,w,h,c)\n",
    "tss_result_arr= tss_result_arr.reshape(n,w,h,c)\n",
    "vis_result_arr = vis_result_arr.reshape(n,w,h,c)\n",
    "salinity_arr = salinity_arr.reshape(n,w,h,c)\n",
    "waterlevel_arr = waterlevel_arr.reshape(n,w,h,c)\n",
    "temp_arr = temp_arr.reshape(n,w,h,c)\n",
    "velocity_arr = velocity_arr.reshape(n,w,h,c)\n",
    "\n",
    "chla_result_arr= chla_result_arr.reshape(n,w,h,c)\n",
    "print(cdom_result_arr.shape)"
   ]
  },
  {
   "cell_type": "markdown",
   "metadata": {},
   "source": [
    "## 저장파일명 지정"
   ]
  },
  {
   "cell_type": "code",
   "execution_count": 31,
   "metadata": {},
   "outputs": [],
   "source": [
    "fname = \"II_ALL\""
   ]
  },
  {
   "cell_type": "markdown",
   "metadata": {},
   "source": [
    "## 데이터 결합"
   ]
  },
  {
   "cell_type": "code",
   "execution_count": 20,
   "metadata": {},
   "outputs": [],
   "source": [
    "# # 1개씩 쓸때\n",
    "#x_all =  cdom_result_arr"
   ]
  },
  {
   "cell_type": "code",
   "execution_count": 23,
   "metadata": {},
   "outputs": [],
   "source": [
    "# # Best 경우\n",
    "\n",
    "# x_all = np.concatenate((tss_result_arr,salinity_arr),axis=3)\n",
    "# x_all = np.concatenate((x_all, vis_result_arr),axis=3)"
   ]
  },
  {
   "cell_type": "code",
   "execution_count": 32,
   "metadata": {},
   "outputs": [],
   "source": [
    "#전체\n",
    "x_all = np.concatenate((cdom_result_arr, tss_result_arr),axis=3)\n",
    "x_all = np.concatenate((x_all, vis_result_arr),axis=3)\n",
    "x_all = np.concatenate((x_all, salinity_arr),axis=3)\n",
    "x_all = np.concatenate((x_all, waterlevel_arr),axis=3)\n",
    "x_all = np.concatenate((x_all, temp_arr),axis=3)\n",
    "x_all = np.concatenate((x_all, velocity_arr),axis=3)"
   ]
  },
  {
   "cell_type": "markdown",
   "metadata": {},
   "source": [
    "## 학습 및 테스트 데이터 분할"
   ]
  },
  {
   "cell_type": "code",
   "execution_count": 60,
   "metadata": {},
   "outputs": [],
   "source": [
    "train_num = 932\n",
    "val_num = 271\n",
    "\n",
    "x_train = x_all[0:train_num]\n",
    "x_val = x_all[train_num:train_num+val_num]\n",
    "x_test = x_all[train_num+val_num:]\n",
    "\n",
    "y_all = chla_result_arr\n",
    "y_train = y_all[0:train_num]\n",
    "y_val = y_all[train_num:train_num+val_num]\n",
    "y_test = y_all[train_num+val_num:]\n",
    "\n",
    "vidx = np.where(y_train[0].flatten() != 0)"
   ]
  },
  {
   "cell_type": "code",
   "execution_count": 35,
   "metadata": {},
   "outputs": [],
   "source": [
    "w = x_all.shape[1]\n",
    "h = x_all.shape[2]\n",
    "d = x_all.shape[3]"
   ]
  },
  {
   "cell_type": "code",
   "execution_count": 21,
   "metadata": {},
   "outputs": [],
   "source": [
    "# from keras import optimizers\n",
    "\n",
    "# All parameter gradients will be clipped to\n",
    "# a maximum norm of 1.\n",
    "#sgd = optimizers.SGD(lr=0.003, clipnorm=1.)\n",
    "# adam = optimizers.Adam(lr=0.001, clipnorm=0.001)"
   ]
  },
  {
   "cell_type": "markdown",
   "metadata": {},
   "source": [
    "### 모형 학습"
   ]
  },
  {
   "cell_type": "code",
   "execution_count": 32,
   "metadata": {},
   "outputs": [],
   "source": [
    "y_train2 = y_train.reshape(932,48*27*1)\n",
    "y_val2 = y_val.reshape(271,48*27*1)"
   ]
  },
  {
   "cell_type": "code",
   "execution_count": 80,
   "metadata": {
    "scrolled": false
   },
   "outputs": [],
   "source": [
    "# Model2\n",
    "\n",
    "leaky_relu = tf.nn.leaky_relu\n",
    "\n",
    "import keras.backend.tensorflow_backend as K\n",
    "with K.tf.device('/cpu:0'):\n",
    "    model = Sequential()\n",
    "    model.add(Conv2D(32, (3, 3), activation=leaky_relu,input_shape=(w,h,d)))\n",
    "    model.add(MaxPooling2D(pool_size=(2, 2)))\n",
    "    model.add(Conv2D(32, (3, 3), activation=leaky_relu))\n",
    "    model.add(MaxPooling2D(pool_size=(2, 2)))\n",
    "    model.add(Dropout(0.25))\n",
    "    model.add(Flatten())\n",
    "    model.add(Dense(256, activation=leaky_relu))\n",
    "    model.add(Dropout(0.5))\n",
    "    model.add(Dense(w*h*1))\n",
    "    model.compile(loss=RMSE, metrics=[RMSE],optimizer='adam')\n",
    "    \n",
    "with K.tf.device('/cpu:0'):\n",
    "    hist = model.fit(x_train,y_train2, batch_size=256, epochs=50000,validation_data=[x_val,y_val2],callbacks=[early_stopping])"
   ]
  },
  {
   "cell_type": "markdown",
   "metadata": {},
   "source": [
    "## 히스토리 저장"
   ]
  },
  {
   "cell_type": "code",
   "execution_count": null,
   "metadata": {},
   "outputs": [],
   "source": [
    "hist_df = pd.DataFrame(hist.history).sort_values(['val_loss'])\n",
    "hist_df.to_excel(fname + \".xlsx\")"
   ]
  },
  {
   "cell_type": "markdown",
   "metadata": {},
   "source": [
    "## 모델 저장"
   ]
  },
  {
   "cell_type": "code",
   "execution_count": null,
   "metadata": {},
   "outputs": [],
   "source": [
    "model.save(fname + \".h5\")"
   ]
  },
  {
   "cell_type": "markdown",
   "metadata": {},
   "source": [
    "## 모델 로드"
   ]
  },
  {
   "cell_type": "code",
   "execution_count": 49,
   "metadata": {},
   "outputs": [],
   "source": [
    "from keras.models import load_model\n",
    "import keras.backend.tensorflow_backend as K\n",
    "\n",
    "with K.tf.device('/cpu:0'):\n",
    "    model = load_model(fname+\".h5\",custom_objects={'leaky_relu': tf.nn.leaky_relu,'RMSE': RMSE})"
   ]
  },
  {
   "cell_type": "code",
   "execution_count": 68,
   "metadata": {},
   "outputs": [],
   "source": [
    "# import matplotlib.pyplot as plt\n",
    "\n",
    "# fig, loss_ax = plt.subplots()\n",
    "# acc_ax = loss_ax.twinx()\n",
    "\n",
    "# loss_ax.plot(hist.history['loss'][1:], 'y', label='train loss')\n",
    "# loss_ax.plot(hist.history['val_loss'][1:], 'r', label='val loss')\n",
    "# loss_ax.set_xlabel('epoch')\n",
    "# loss_ax.set_ylabel('loss')\n",
    "# loss_ax.legend(loc='upper left')\n",
    "\n",
    "# plt.show()"
   ]
  },
  {
   "cell_type": "code",
   "execution_count": 53,
   "metadata": {},
   "outputs": [
    {
     "data": {
      "text/plain": [
       "(128, 48, 27, 7)"
      ]
     },
     "execution_count": 53,
     "metadata": {},
     "output_type": "execute_result"
    }
   ],
   "source": [
    "x_test.shape"
   ]
  },
  {
   "cell_type": "code",
   "execution_count": 61,
   "metadata": {},
   "outputs": [
    {
     "data": {
      "text/plain": [
       "<matplotlib.axes._subplots.AxesSubplot at 0x7fdc66af1240>"
      ]
     },
     "execution_count": 61,
     "metadata": {},
     "output_type": "execute_result"
    },
    {
     "data": {
      "image/png": "[encoded data removed]",
      "text/plain": [
       "<Figure size 432x288 with 1 Axes>"
      ]
     },
     "metadata": {},
     "output_type": "display_data"
    }
   ],
   "source": [
    "x_test2 = x_test\n",
    "y_test2 = y_test\n",
    "sns.distplot(y_test2[y_test2 !=0])"
   ]
  },
  {
   "cell_type": "code",
   "execution_count": 62,
   "metadata": {},
   "outputs": [
    {
     "data": {
      "text/plain": [
       "45056"
      ]
     },
     "execution_count": 62,
     "metadata": {},
     "output_type": "execute_result"
    }
   ],
   "source": [
    "len(y_test2[y_test2 !=0])"
   ]
  },
  {
   "cell_type": "code",
   "execution_count": 63,
   "metadata": {},
   "outputs": [
    {
     "data": {
      "text/plain": [
       "0.7456494691892561"
      ]
     },
     "execution_count": 63,
     "metadata": {},
     "output_type": "execute_result"
    }
   ],
   "source": [
    "np.std(y_test2[y_test2 !=0])"
   ]
  },
  {
   "cell_type": "code",
   "execution_count": 56,
   "metadata": {},
   "outputs": [],
   "source": [
    "from sklearn.metrics import mean_squared_error"
   ]
  },
  {
   "cell_type": "code",
   "execution_count": 73,
   "metadata": {},
   "outputs": [
    {
     "name": "stdout",
     "output_type": "stream",
     "text": [
      "0.43583831333008805\n"
     ]
    },
    {
     "name": "stderr",
     "output_type": "stream",
     "text": [
      "/usr/local/lib/python3.6/dist-packages/pandas/compat/_optional.py:106: UserWarning: Pandas requires version '0.9.8' or newer of 'xlsxwriter' (version '0.7.3' currently installed).\n",
      "  warnings.warn(msg, UserWarning)\n"
     ]
    }
   ],
   "source": [
    "rmse_list = []\n",
    "for n in range(0,128):\n",
    "    x_test = x_test2[n:(n+1)]\n",
    "    y_test = y_test2[n:(n+1)]\n",
    "\n",
    "    x_test_list = []\n",
    "    y_test_list = []     \n",
    "\n",
    "    pred = model.predict(x_test)\n",
    "\n",
    "    y_test_re = y_test.reshape(1,w*h)\n",
    "    sub_pred = pred[y_test_re !=0]\n",
    "    sub_y_test = y_test_re[y_test_re !=0]\n",
    "\n",
    "    rmse = mean_squared_error(sub_y_test, sub_pred)**0.5\n",
    "\n",
    "    rmse_list.append(rmse)\n",
    "\n",
    "print(np.mean(rmse_list))\n",
    "rmse_df = pd.DataFrame(rmse_list)\n",
    "rmse_df.to_excel(fname+\"_RMSE.xlsx\")"
   ]
  },
  {
   "cell_type": "code",
   "execution_count": 75,
   "metadata": {},
   "outputs": [
    {
     "data": {
      "text/plain": [
       "[0.31957646663079986,\n",
       " 0.486606847418984,\n",
       " 0.4904737761320719,\n",
       " 0.4985429872270059,\n",
       " 0.2581985029940953,\n",
       " 0.3343194846375271,\n",
       " 0.26063137081265575,\n",
       " 0.27417981898352334,\n",
       " 0.42116911314087907,\n",
       " 0.36726195166509773,\n",
       " 0.47949446639360144,\n",
       " 0.6322138198956535,\n",
       " 0.23435039595054397,\n",
       " 0.26835852275115596,\n",
       " 0.21797906120825797,\n",
       " 0.3151980886026424,\n",
       " 0.40250020043233614,\n",
       " 0.5956095610247149,\n",
       " 0.25097497091546733,\n",
       " 0.2196500047634812,\n",
       " 0.19405707867989747,\n",
       " 0.23087972979229093,\n",
       " 0.17803705441675857,\n",
       " 0.19033515288921643,\n",
       " 0.19977152935235948,\n",
       " 0.5111358943631357,\n",
       " 1.0498782280799004,\n",
       " 0.46471252718165185,\n",
       " 0.20815756734104932,\n",
       " 0.19562607878042565,\n",
       " 0.4216285345466442,\n",
       " 0.29723972556216754,\n",
       " 0.23095016765118664,\n",
       " 0.10597278636952018,\n",
       " 0.5401866182064694,\n",
       " 0.40752510131957875,\n",
       " 0.2782291939657292,\n",
       " 0.6082216263198551,\n",
       " 0.6084894121131401,\n",
       " 0.2811861398343114,\n",
       " 0.23989356552072424,\n",
       " 0.26656749355448633,\n",
       " 0.3331445638357468,\n",
       " 0.179394004626258,\n",
       " 0.3434499332045948,\n",
       " 0.4287129689543941,\n",
       " 0.7519758352615837,\n",
       " 0.2397591286276262,\n",
       " 0.23917512145351413,\n",
       " 0.42838293127494015,\n",
       " 0.5463081297569075,\n",
       " 0.49265510313609706,\n",
       " 0.27816952721213745,\n",
       " 0.414792706815913,\n",
       " 0.2914013964087922,\n",
       " 0.2634668738931026,\n",
       " 0.882892830104973,\n",
       " 0.35920621360654437,\n",
       " 0.6039666344471206,\n",
       " 0.7361333327813837,\n",
       " 0.6258072389775663,\n",
       " 1.2420305992925302,\n",
       " 0.8361599441114833,\n",
       " 0.7373605493023846,\n",
       " 0.6410010541683666,\n",
       " 1.1496215670762817,\n",
       " 1.2091084816248603,\n",
       " 0.38891430222335355,\n",
       " 0.5633053257043987,\n",
       " 0.31753915033105223,\n",
       " 0.4714199907832894,\n",
       " 0.5059596001002016,\n",
       " 0.6534411702135372,\n",
       " 0.5100758292361155,\n",
       " 0.3213220622718166,\n",
       " 0.45335796437002956,\n",
       " 0.3907041441505591,\n",
       " 0.5780501707793939,\n",
       " 0.6170501640058176,\n",
       " 0.5476763812292887,\n",
       " 0.647192683904669,\n",
       " 0.5348546868221005,\n",
       " 0.4904100433199046,\n",
       " 0.383878331661336,\n",
       " 0.6384255885497908,\n",
       " 0.5067873959417959,\n",
       " 0.377812506399284,\n",
       " 0.5499764422401967,\n",
       " 0.4868971831598667,\n",
       " 0.5139506097437626,\n",
       " 0.6315600220211126,\n",
       " 0.32076078127859425,\n",
       " 0.34046499068179653,\n",
       " 0.5289898647985548,\n",
       " 0.6106301595731376,\n",
       " 0.43965555018110775,\n",
       " 0.42825482120018693,\n",
       " 0.4302469010256058,\n",
       " 0.26123725683652654,\n",
       " 0.22575367049248038,\n",
       " 0.2824123378266546,\n",
       " 0.2709688947215002,\n",
       " 0.6444030628827968,\n",
       " 0.5084732635563113,\n",
       " 0.3213463810449574,\n",
       " 0.24312963455119854,\n",
       " 0.2937254200160105,\n",
       " 0.4952825883565182,\n",
       " 0.4380971276498862,\n",
       " 0.6057379191566904,\n",
       " 0.4213624771284828,\n",
       " 0.33737453524380046,\n",
       " 0.36975545538957844,\n",
       " 0.37840265007143786,\n",
       " 0.35004817198539306,\n",
       " 0.5616955156505328,\n",
       " 0.3913533891071078,\n",
       " 0.31779131907688046,\n",
       " 0.5999749426351859,\n",
       " 0.3970200305028827,\n",
       " 0.27758978695954223,\n",
       " 0.2413750640430685,\n",
       " 0.4668894902860048,\n",
       " 0.4080966461097323,\n",
       " 0.2881195152367602,\n",
       " 0.26374347405824655,\n",
       " 0.20131931663681618,\n",
       " 0.4552126637605338]"
      ]
     },
     "execution_count": 75,
     "metadata": {},
     "output_type": "execute_result"
    }
   ],
   "source": [
    "rmse_list"
   ]
  },
  {
   "cell_type": "markdown",
   "metadata": {},
   "source": [
    "### 한 데이터씩 살피기"
   ]
  },
  {
   "cell_type": "code",
   "execution_count": 238,
   "metadata": {},
   "outputs": [],
   "source": [
    "n = 102\n",
    "x_test = x_test2[n:(n+1)]\n",
    "y_test = y_test2[n:(n+1)]\n",
    "\n",
    "x_test_list = []\n",
    "y_test_list = []     \n",
    "            \n",
    "from sklearn.metrics import mean_squared_error\n",
    "pred = model.predict(x_test)\n",
    "\n",
    "y_test_re = y_test.reshape(1,w*h)\n",
    "sub_pred = pred[y_test_re !=0]\n",
    "sub_y_test = y_test_re[y_test_re !=0]\n",
    "\n",
    "rmse = mean_squared_error(sub_y_test, sub_pred)**0.5\n",
    "\n",
    "y_test = y_test_re.reshape(w,h)\n",
    "pred[y_test_re == 0] = 0\n",
    "pred = pred.reshape(w,h)"
   ]
  },
  {
   "cell_type": "code",
   "execution_count": 239,
   "metadata": {},
   "outputs": [],
   "source": [
    "max_val = max(y_test_re.flatten())"
   ]
  },
  {
   "cell_type": "code",
   "execution_count": 240,
   "metadata": {},
   "outputs": [
    {
     "data": {
      "text/plain": [
       "<matplotlib.axes._subplots.AxesSubplot at 0x7fdf90643080>"
      ]
     },
     "execution_count": 240,
     "metadata": {},
     "output_type": "execute_result"
    },
    {
     "data": {
      "image/png": "[encoded data removed]",
      "text/plain": [
       "<Figure size 504x288 with 2 Axes>"
      ]
     },
     "metadata": {},
     "output_type": "display_data"
    }
   ],
   "source": [
    "sns.heatmap(pred,vmax=max_val)"
   ]
  },
  {
   "cell_type": "code",
   "execution_count": 241,
   "metadata": {},
   "outputs": [
    {
     "data": {
      "text/plain": [
       "<matplotlib.axes._subplots.AxesSubplot at 0x7fdf904279e8>"
      ]
     },
     "execution_count": 241,
     "metadata": {},
     "output_type": "execute_result"
    },
    {
     "data": {
      "image/png": "[encoded data removed]",
      "text/plain": [
       "<Figure size 504x288 with 2 Axes>"
      ]
     },
     "metadata": {},
     "output_type": "display_data"
    }
   ],
   "source": [
    "sns.heatmap(y_test,vmin=0,vmax=max_val)"
   ]
  },
  {
   "cell_type": "code",
   "execution_count": null,
   "metadata": {},
   "outputs": [],
   "source": [
    "sns.distplot(y_test_re.flatten())"
   ]
  },
  {
   "cell_type": "code",
   "execution_count": null,
   "metadata": {},
   "outputs": [],
   "source": [
    "sns.distplot(result_re.flatten())"
   ]
  },
  {
   "cell_type": "code",
   "execution_count": null,
   "metadata": {},
   "outputs": [],
   "source": []
  },
  {
   "cell_type": "code",
   "execution_count": 242,
   "metadata": {},
   "outputs": [],
   "source": [
    "y_true = y_test_re.flatten()\n",
    "y_pred = pred.flatten()\n",
    "\n",
    "y_true = y_true[y_pred != 0]\n",
    "y_pred = y_pred[y_pred != 0]\n"
   ]
  },
  {
   "cell_type": "code",
   "execution_count": 244,
   "metadata": {},
   "outputs": [
    {
     "data": {
      "image/png": "[encoded data removed]",
      "text/plain": [
       "<Figure size 504x288 with 1 Axes>"
      ]
     },
     "metadata": {},
     "output_type": "display_data"
    }
   ],
   "source": [
    "import scipy as sp\n",
    "linreg = sp.stats.linregress(y_true, y_pred)\n",
    "r2 = linreg.rvalue\n",
    "\n",
    "plt.scatter(y_true,y_pred,color=\"green\")\n",
    "plt.xlabel('Actual values')\n",
    "plt.ylabel('Predicted values')\n",
    "\n",
    "plt.plot(np.unique(y_true), np.poly1d(np.polyfit(y_true, y_pred, 1))(np.unique(y_true)),color=\"red\")\n",
    "plt.rcParams[\"figure.figsize\"] = (7, 4)\n",
    "plt.text(3.5,2.5,'R-squred = %0.2f' % r2)\n",
    "plt.show()"
   ]
  },
  {
   "cell_type": "code",
   "execution_count": 182,
   "metadata": {},
   "outputs": [],
   "source": [
    "r2_list = []\n",
    "for n in range(0,128):\n",
    "    x_test = x_test2[n:(n+1)]\n",
    "    y_test = y_test2[n:(n+1)]\n",
    "\n",
    "    x_test_list = []\n",
    "    y_test_list = []     \n",
    "\n",
    "    from sklearn.metrics import mean_squared_error\n",
    "    pred = model.predict(x_test)\n",
    "\n",
    "    y_test_re = y_test.reshape(1,w*h)\n",
    "    sub_pred = pred[y_test_re !=0]\n",
    "    sub_y_test = y_test_re[y_test_re !=0]\n",
    "\n",
    "    rmse = mean_squared_error(sub_y_test, sub_pred)**0.5\n",
    "\n",
    "    y_test = y_test_re.reshape(w,h)\n",
    "    pred[y_test_re == 0] = 0\n",
    "    pred = pred.reshape(w,h)\n",
    "    \n",
    "    y_true = y_test_re.flatten()\n",
    "    y_pred = pred.flatten()\n",
    "\n",
    "    y_true = y_true[y_pred != 0]\n",
    "    y_pred = y_pred[y_pred != 0]\n",
    "    import scipy as sp\n",
    "    linreg = sp.stats.linregress(y_true, y_pred)\n",
    "    r2 = linreg.rvalue\n",
    "    r2_list.append(r2)\n"
   ]
  },
  {
   "cell_type": "code",
   "execution_count": 185,
   "metadata": {},
   "outputs": [],
   "source": [
    "r2_df = pd.DataFrame(r2_list)"
   ]
  },
  {
   "cell_type": "code",
   "execution_count": 186,
   "metadata": {},
   "outputs": [
    {
     "name": "stderr",
     "output_type": "stream",
     "text": [
      "/usr/local/lib/python3.6/dist-packages/pandas/compat/_optional.py:106: UserWarning: Pandas requires version '0.9.8' or newer of 'xlsxwriter' (version '0.7.3' currently installed).\n",
      "  warnings.warn(msg, UserWarning)\n"
     ]
    }
   ],
   "source": [
    "r2_df.to_excel(\"./result/r2_df.xlsx\")"
   ]
  }
 ],
 "metadata": {
  "kernelspec": {
   "display_name": "Python 3",
   "language": "python",
   "name": "python3"
  },
  "language_info": {
   "codemirror_mode": {
    "name": "ipython",
    "version": 3
   },
   "file_extension": ".py",
   "mimetype": "text/x-python",
   "name": "python",
   "nbconvert_exporter": "python",
   "pygments_lexer": "ipython3",
   "version": "3.6.7"
  },
  "widgets": {
   "application/vnd.jupyter.widget-state+json": {
    "state": {},
    "version_major": 2,
    "version_minor": 0
   }
  }
 },
 "nbformat": 4,
 "nbformat_minor": 2
}
