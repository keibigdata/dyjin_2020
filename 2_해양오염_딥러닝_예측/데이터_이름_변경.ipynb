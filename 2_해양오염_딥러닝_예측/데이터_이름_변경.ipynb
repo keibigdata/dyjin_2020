{
 "cells": [
  {
   "cell_type": "code",
   "execution_count": 1,
   "metadata": {},
   "outputs": [],
   "source": [
    "import pandas as pd\n",
    "import os\n",
    "import datetime\n",
    "from dateutil.relativedelta import *"
   ]
  },
  {
   "cell_type": "code",
   "execution_count": 2,
   "metadata": {},
   "outputs": [
    {
     "name": "stdout",
     "output_type": "stream",
     "text": [
      "[2015, 2016, 2017, 2018, 2019]\n"
     ]
    }
   ],
   "source": [
    "year_list = list(range(2015,2020))\n",
    "print(year_list)"
   ]
  },
  {
   "cell_type": "code",
   "execution_count": 3,
   "metadata": {},
   "outputs": [
    {
     "name": "stdout",
     "output_type": "stream",
     "text": [
      "2015-01-01 00:00:00\n",
      "2016-01-01 00:00:00\n",
      "2017-01-01 00:00:00\n",
      "2018-01-01 00:00:00\n",
      "2019-01-01 00:00:00\n"
     ]
    }
   ],
   "source": [
    "directory = \"./수치모형/velocity/\"\n",
    "all_f_list = os.listdir(directory)\n",
    "all_f_list.sort()\n",
    "name = \"velocity_\"\n",
    "for y in year_list:\n",
    "    f_list = [f for f in all_f_list if f.startswith(str(y))]\n",
    "    d =  datetime.datetime.strptime(str(y) + \"-\" + str(1) + \"-\" + \"01\" \"-\" \"00\", \"%Y-%m-%d-%H\")\n",
    "    print(d)\n",
    "    for f in f_list:\n",
    "        dstr = datetime.date.strftime(d,\"%Y%m%d%H\")\n",
    "        dat = pd.read_csv(directory + f,header=None,sep=\"\\s+\")\n",
    "        dat.to_csv(directory + name + dstr + \".csv\", header=None)    \n",
    "        d = d + relativedelta(hours=1)"
   ]
  }
 ],
 "metadata": {
  "kernelspec": {
   "display_name": "Python 3",
   "language": "python",
   "name": "python3"
  },
  "language_info": {
   "codemirror_mode": {
    "name": "ipython",
    "version": 3
   },
   "file_extension": ".py",
   "mimetype": "text/x-python",
   "name": "python",
   "nbconvert_exporter": "python",
   "pygments_lexer": "ipython3",
   "version": "3.6.7"
  }
 },
 "nbformat": 4,
 "nbformat_minor": 2
}
