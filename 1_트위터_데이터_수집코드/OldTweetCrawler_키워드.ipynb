{
 "cells": [
  {
   "cell_type": "markdown",
   "metadata": {},
   "source": [
    "# 트위터 검색어 기반 크롤링 소스코드\n",
    "\n",
    "* 참고자료 : https://jeongwookie.github.io/2019/06/10/190610-twitter-data-crawling/"
   ]
  },
  {
   "cell_type": "code",
   "execution_count": 1,
   "metadata": {},
   "outputs": [],
   "source": [
    "import GetOldTweets3 as got\n",
    "from bs4 import BeautifulSoup\n",
    "import time\n",
    "from random import uniform\n",
    "from tqdm import tqdm_notebook\n",
    "import datetime\n",
    "import pandas as pd\n",
    "import os"
   ]
  },
  {
   "cell_type": "code",
   "execution_count": 14,
   "metadata": {},
   "outputs": [
    {
     "name": "stdout",
     "output_type": "stream",
     "text": [
      "=== 설정된 트윗 수집 기간은 2010-01-01 에서 2019-12-30 까지 입니다 ===\n",
      "=== 총 3651일 간의 데이터 수집 ===\n"
     ]
    }
   ],
   "source": [
    "# 가져올 범위를 정의\n",
    "\n",
    "days_range = []\n",
    "\n",
    "start = datetime.datetime.strptime(\"2010-01-01\", \"%Y-%m-%d\")\n",
    "end = datetime.datetime.strptime(\"2019-12-31\", \"%Y-%m-%d\")\n",
    "date_generated = [start + datetime.timedelta(days=x) for x in range(0, (end-start).days)]\n",
    "\n",
    "for date in date_generated:\n",
    "    days_range.append(date.strftime(\"%Y-%m-%d\"))\n",
    "\n",
    "print(\"=== 설정된 트윗 수집 기간은 {} 에서 {} 까지 입니다 ===\".format(days_range[0], days_range[-1]))\n",
    "print(\"=== 총 {}일 간의 데이터 수집 ===\".format(len(days_range)))\n",
    "\n",
    "# 수집 기간 맞추기\n",
    "start_date = days_range[0] \n",
    "end_date = (datetime.datetime.strptime(days_range[-1], \"%Y-%m-%d\") \n",
    "            + datetime.timedelta(days=1)).strftime(\"%Y-%m-%d\") # setUntil이 끝을 포함하지 않으므로, day + 1"
   ]
  },
  {
   "cell_type": "code",
   "execution_count": 2,
   "metadata": {},
   "outputs": [],
   "source": [
    "search_list = ['해수담수화']\n",
    "keyword_list = ['해수담수화']"
   ]
  },
  {
   "cell_type": "code",
   "execution_count": 18,
   "metadata": {},
   "outputs": [
    {
     "name": "stdout",
     "output_type": "stream",
     "text": [
      "해수담수화\n",
      "Collecting data start.. from 2010-01-01 to 2019-12-30\n",
      "Collecting data end.. 0.27 Minutes\n",
      "=== Total num of tweets is 101 ===\n"
     ]
    },
    {
     "data": {
      "application/vnd.jupyter.widget-view+json": {
       "model_id": "1e14bf976b9747f5ac277dea28fd8255",
       "version_major": 2,
       "version_minor": 0
      },
      "text/html": [
       "<p>Failed to display Jupyter Widget of type <code>HBox</code>.</p>\n",
       "<p>\n",
       "  If you're reading this message in the Jupyter Notebook or JupyterLab Notebook, it may mean\n",
       "  that the widgets JavaScript is still loading. If this message persists, it\n",
       "  likely means that the widgets JavaScript library is either not installed or\n",
       "  not enabled. See the <a href=\"https://ipywidgets.readthedocs.io/en/stable/user_install.html\">Jupyter\n",
       "  Widgets Documentation</a> for setup instructions.\n",
       "</p>\n",
       "<p>\n",
       "  If you're reading this message in another frontend (for example, a static\n",
       "  rendering on GitHub or <a href=\"https://nbviewer.jupyter.org/\">NBViewer</a>),\n",
       "  it may mean that your frontend doesn't currently support widgets.\n",
       "</p>\n"
      ],
      "text/plain": [
       "HBox(children=(IntProgress(value=0, max=101), HTML(value='')))"
      ]
     },
     "metadata": {},
     "output_type": "display_data"
    },
    {
     "name": "stdout",
     "output_type": "stream",
     "text": [
      "\n"
     ]
    }
   ],
   "source": [
    "for i,s in enumerate(search_list): \n",
    "    fn = keyword_list[i] + \".txt\"\n",
    "    print(s)\n",
    "#     if(os.path.exists(fn)):\n",
    "#         continue\n",
    "        \n",
    "    tweetCriteria = got.manager.TweetCriteria().setQuerySearch(s)\\\n",
    "                                               .setSince(start_date)\\\n",
    "                                               .setUntil(end_date)\\\n",
    "                                               .setMaxTweets(-1)\n",
    "                                               \n",
    "    # 수집 with GetOldTweet3\n",
    "    print(\"Collecting data start.. from {} to {}\".format(days_range[0], days_range[-1]))\n",
    "    start_time = time.time()\n",
    "\n",
    "    tweet = got.manager.TweetManager.getTweets(tweetCriteria)\n",
    "\n",
    "    print(\"Collecting data end.. {0:0.2f} Minutes\".format((time.time() - start_time)/60))\n",
    "    print(\"=== Total num of tweets is {} ===\".format(len(tweet)))\n",
    "\n",
    "    tweet_list = []\n",
    "    for index in tqdm_notebook(tweet):\n",
    "        content = index.text\n",
    "        tweet_date = index.date.strftime(\"%Y-%m-%d\")\n",
    " \n",
    "        # 결과 합치기\n",
    "        info_list = [tweet_date,'트위터',keyword_list[i],content]\n",
    "        tweet_list.append(info_list)\n",
    "\n",
    "        # 휴식 \n",
    "        #time.sleep(uniform(0,2))\n",
    "        \n",
    "    tweet_df = pd.DataFrame(tweet_list,columns=['날짜','종류','키워드','내용'])\n",
    "    tweet_df = tweet_df.drop_duplicates(['내용'])\n",
    "    tweet_df = tweet_df.reset_index(drop=True)\n",
    "    tweet_df.to_csv(fn,index=False)"
   ]
  },
  {
   "cell_type": "code",
   "execution_count": null,
   "metadata": {},
   "outputs": [],
   "source": [
    "tweet_df"
   ]
  },
  {
   "cell_type": "code",
   "execution_count": null,
   "metadata": {},
   "outputs": [],
   "source": [
    "tweet_df['내용'][6]"
   ]
  }
 ],
 "metadata": {
  "kernelspec": {
   "display_name": "Python 3",
   "language": "python",
   "name": "python3"
  },
  "language_info": {
   "codemirror_mode": {
    "name": "ipython",
    "version": 3
   },
   "file_extension": ".py",
   "mimetype": "text/x-python",
   "name": "python",
   "nbconvert_exporter": "python",
   "pygments_lexer": "ipython3",
   "version": "3.6.7"
  }
 },
 "nbformat": 4,
 "nbformat_minor": 2
}
