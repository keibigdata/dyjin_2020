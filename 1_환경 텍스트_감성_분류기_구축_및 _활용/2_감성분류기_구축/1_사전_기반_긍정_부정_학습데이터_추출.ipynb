{
 "cells": [
  {
   "cell_type": "code",
   "execution_count": 2,
   "metadata": {},
   "outputs": [],
   "source": [
    "import os\n",
    "import pandas as pd\n",
    "import numpy as np\n",
    "from random import *\n",
    "import warnings\n",
    "warnings.filterwarnings(action='ignore')"
   ]
  },
  {
   "cell_type": "code",
   "execution_count": 3,
   "metadata": {},
   "outputs": [],
   "source": [
    "file_list = os.listdir(\"./twitter_data/\")\n",
    "\n",
    "df1 = pd.DataFrame()\n",
    "for f in file_list:\n",
    "    temp = pd.read_csv('./twitter_data/'+ f)\n",
    "    df1 = pd.concat([df1,temp])\n",
    "df1_text = df1['내용']    \n",
    "    \n",
    "df2 = pd.read_csv(\"./naver_data/naver_comments_long.csv\")\n",
    "df2_text = df2['comments']\n",
    "df1_text = df1_text.tolist()\n",
    "df2_text = df2_text.tolist()\n",
    "\n",
    "df_text = df1_text + df2_text\n",
    "df_text = list(set(df_text))\n",
    "df = pd.DataFrame(df_text,columns=['내용'])\n",
    "df_text = df['내용']"
   ]
  },
  {
   "cell_type": "markdown",
   "metadata": {},
   "source": [
    "## 사전 필터링"
   ]
  },
  {
   "cell_type": "code",
   "execution_count": 4,
   "metadata": {},
   "outputs": [],
   "source": [
    "w = '이벤트|퀴즈|행사'\n",
    "sub_df = pd.DataFrame(df.loc[~df_text.str.contains(w)])\n",
    "df = sub_df\n",
    "df = df.reset_index(drop=True)\n",
    "df_text = df['내용']"
   ]
  },
  {
   "cell_type": "code",
   "execution_count": null,
   "metadata": {},
   "outputs": [],
   "source": [
    "# 사전식 긍정댓글\n",
    "\n",
    "w = '개짝난다|짱난다|하시발|하ㅅㅂ|하 시발|하 ㅅㅂ|개짜증|개짝나네|하 씨발|하씨발|미친시발|짜증난다|아니 시발|아니 ㅅㅂ|십새ㅣ|아 미친련아|또라이들|극혐|걱정된다|슬프다|존나 시발|존나 ㅅㅂ|머하냐고|조깟네|실망이다|개실망|\\\n",
    "더럽|드럽|어이없|양심없|개민폐|새끼들|죽을뻔|서럽|븅신들|개쓰레기|개병신|실망이다|뭔 씨발|하 씨발|아니 씨발|아 씨발|족같|쓰레기들|장냔하냐|미쳣냐|매장시켜|개뿔|빡친다|너무한다|시키들|한심한|남탓|진짜 짜증|디져라|찌찔이\\\n",
    "|지랄하네|무뇌아|답이없다|답없다|답이없네|싫다|양심도|개말종|더러운|뒤지겟네|썩엇네|조작질|지R들|지랄들|미친건가|미친거아님|아가리|아갈|대굴빡|빡대가리|개념없는|에휴 진짜|화난다|열받는다|짜증남|화남|열받음|에휴|어휴|아 진짜|상처|고통\\\n",
    "|최악|괴롭|울고싶다|패고싶다|비통|개양아치|띵하다|아이고|하이고|으아아|박탈감|나쁜|못된|몹쓸|개년|느금|노답|미친년|미친놈|씹쓰레기|역겹|염병|우라질|좆나|틀딱'\n",
    "\n",
    "sub_df = pd.DataFrame(df.loc[~df_text.str.contains(w)])\n",
    "sub_text = sub_df['내용']\n",
    "w = '기쁜|기쁨|기쁘다|이쁘다|예쁘다|어여쁘다|이쁨|어여쁨|예뿌다|이뿌다|신기|기대|존경|화이팅|파이팅|퐈이팅|재미있다|즐겁다|재미나다|존잼|꿀잼|허니잼|졸잼|잼|멋짐|걸조|꽃미남|잘생김|잘생겼다|까리하다|훈훈|멋지다|개간지|강추|추천함|꿀맛|존맛|존맛탱|맛있음|졸맛|맛있다|고생|수고|행복|만족|사랑|웃기다|미소|축하|뛰어나다|농담|환희|성공|우정'\n",
    "\n",
    "pos_df = pd.DataFrame(sub_df.loc[sub_text.str.contains(w)])\n",
    "pos_df['키워드'] = w\n",
    "pos_df = pos_df.reset_index(drop=True)\n",
    "pos_df.to_csv(\"./pos_df.csv\")\n",
    "pos_df.head()"
   ]
  },
  {
   "cell_type": "code",
   "execution_count": 6,
   "metadata": {},
   "outputs": [
    {
     "data": {
      "text/html": [
       "<div>\n",
       "<style scoped>\n",
       "    .dataframe tbody tr th:only-of-type {\n",
       "        vertical-align: middle;\n",
       "    }\n",
       "\n",
       "    .dataframe tbody tr th {\n",
       "        vertical-align: top;\n",
       "    }\n",
       "\n",
       "    .dataframe thead th {\n",
       "        text-align: right;\n",
       "    }\n",
       "</style>\n",
       "<table border=\"1\" class=\"dataframe\">\n",
       "  <thead>\n",
       "    <tr style=\"text-align: right;\">\n",
       "      <th></th>\n",
       "      <th>내용</th>\n",
       "      <th>키워드</th>\n",
       "    </tr>\n",
       "  </thead>\n",
       "  <tbody>\n",
       "    <tr>\n",
       "      <th>0</th>\n",
       "      <td>\"어휴 열섬현상이랑 여름에 차 지나갈때 바닥에서 뜨거운열기 쏟아지는거 생각하면 정말...</td>\n",
       "      <td>개짝난다|짱난다|하시발|하ㅅㅂ|하 시발|하 ㅅㅂ|개짜증|개짝나네|하 씨발|하씨발|미...</td>\n",
       "    </tr>\n",
       "    <tr>\n",
       "      <th>1</th>\n",
       "      <td>\"아 쫌 중국한테 지랄좀해라 쫌!!!! 우리애들 한달째 기침이 안떨어진다고!!!! ...</td>\n",
       "      <td>개짝난다|짱난다|하시발|하ㅅㅂ|하 시발|하 ㅅㅂ|개짜증|개짝나네|하 씨발|하씨발|미...</td>\n",
       "    </tr>\n",
       "    <tr>\n",
       "      <th>2</th>\n",
       "      <td>\"어이구 차라리 가만있어라  자동차가 아니란걸 알면서  와카노  그럼 여름에는 왜 ...</td>\n",
       "      <td>개짝난다|짱난다|하시발|하ㅅㅂ|하 시발|하 ㅅㅂ|개짜증|개짝나네|하 씨발|하씨발|미...</td>\n",
       "    </tr>\n",
       "    <tr>\n",
       "      <th>3</th>\n",
       "      <td>\"이간질 당하는 것 같은 이 찝찝함.. 정작 가해자는 잊혀 지고 제대로 보상받아야 ...</td>\n",
       "      <td>개짝난다|짱난다|하시발|하ㅅㅂ|하 시발|하 ㅅㅂ|개짜증|개짝나네|하 씨발|하씨발|미...</td>\n",
       "    </tr>\n",
       "    <tr>\n",
       "      <th>4</th>\n",
       "      <td>[김남혁의 암치료] 암의 원인이 되는 활성산소 - 에덴요양병원 http://me2....</td>\n",
       "      <td>개짝난다|짱난다|하시발|하ㅅㅂ|하 시발|하 ㅅㅂ|개짜증|개짝나네|하 씨발|하씨발|미...</td>\n",
       "    </tr>\n",
       "  </tbody>\n",
       "</table>\n",
       "</div>"
      ],
      "text/plain": [
       "                                                  내용  \\\n",
       "0  \"어휴 열섬현상이랑 여름에 차 지나갈때 바닥에서 뜨거운열기 쏟아지는거 생각하면 정말...   \n",
       "1  \"아 쫌 중국한테 지랄좀해라 쫌!!!! 우리애들 한달째 기침이 안떨어진다고!!!! ...   \n",
       "2  \"어이구 차라리 가만있어라  자동차가 아니란걸 알면서  와카노  그럼 여름에는 왜 ...   \n",
       "3  \"이간질 당하는 것 같은 이 찝찝함.. 정작 가해자는 잊혀 지고 제대로 보상받아야 ...   \n",
       "4  [김남혁의 암치료] 암의 원인이 되는 활성산소 - 에덴요양병원 http://me2....   \n",
       "\n",
       "                                                 키워드  \n",
       "0  개짝난다|짱난다|하시발|하ㅅㅂ|하 시발|하 ㅅㅂ|개짜증|개짝나네|하 씨발|하씨발|미...  \n",
       "1  개짝난다|짱난다|하시발|하ㅅㅂ|하 시발|하 ㅅㅂ|개짜증|개짝나네|하 씨발|하씨발|미...  \n",
       "2  개짝난다|짱난다|하시발|하ㅅㅂ|하 시발|하 ㅅㅂ|개짜증|개짝나네|하 씨발|하씨발|미...  \n",
       "3  개짝난다|짱난다|하시발|하ㅅㅂ|하 시발|하 ㅅㅂ|개짜증|개짝나네|하 씨발|하씨발|미...  \n",
       "4  개짝난다|짱난다|하시발|하ㅅㅂ|하 시발|하 ㅅㅂ|개짜증|개짝나네|하 씨발|하씨발|미...  "
      ]
     },
     "execution_count": 6,
     "metadata": {},
     "output_type": "execute_result"
    }
   ],
   "source": [
    "# 사전식 부정댓글\n",
    "\n",
    "w = '기쁜|기쁨|기쁘다|이쁘다|예쁘다|어여쁘다|이쁨|어여쁨|예뿌다|이뿌다|신기|기대|존경|화이팅|파이팅|퐈이팅|재미있다|즐겁다|재미나다|존잼|꿀잼|허니잼|졸잼|잼|멋짐|걸조|꽃미남|잘생김|잘생겼다|까리하다|훈훈|멋지다|개간지|강추|추천함|꿀맛|존맛|존맛탱|맛있음|졸맛|맛있다|ㅋㅋ|ㅎㅎ|고생|수고|행복|만족|사랑|웃기다|미소|축하|뛰어나다|농담|환희|성공|우정'\n",
    "\n",
    "sub_df = pd.DataFrame(df.loc[~df_text.str.contains(w)])\n",
    "sub_text = sub_df['내용']\n",
    "\n",
    "w = '개짝난다|짱난다|하시발|하ㅅㅂ|하 시발|하 ㅅㅂ|개짜증|개짝나네|하 씨발|하씨발|미친시발|짜증난다|아니 시발|아니 ㅅㅂ|십새ㅣ|아 미친련아|또라이들|극혐|걱정된다|슬프다|존나 시발|존나 ㅅㅂ|머하냐고|조깟네|실망이다|개실망|\\\n",
    "더럽|드럽|어이없|양심없|개민폐|새끼들|죽을뻔|서럽|븅신들|개쓰레기|개병신|실망이다|뭔 씨발|하 씨발|아니 씨발|아 씨발|족같|쓰레기들|장냔하냐|미쳣냐|매장시켜|개뿔|빡친다|너무한다|시키들|한심한|남탓|진짜 짜증|디져라|찌찔이\\\n",
    "|지랄하네|무뇌아|답이없다|답없다|답이없네|싫다|양심도|개말종|더러운|뒤지겟네|썩엇네|조작질|지R들|지랄들|미친건가|미친거아님|아가리|아갈|대굴빡|빡대가리|개념없는|에휴 진짜|화난다|열받는다|짜증남|화남|열받음|에휴|어휴|아 진짜|상처|고통\\\n",
    "|최악|괴롭|울고싶다|패고싶다|비통|개양아치|띵하다|아이고|하이고|으아아|박탈감|나쁜|못된|몹쓸|개년|느금|노답|미친년|미친놈|씹쓰레기|역겹|염병|우라질|좆나|틀딱'\n",
    "neg_df = pd.DataFrame(sub_df.loc[sub_text.str.contains(w)])\n",
    "neg_df['키워드'] = w\n",
    "neg_df = neg_df.reset_index(drop=True)\n",
    "\n",
    "neg_df.to_csv(\"./neg_df.csv\")\n",
    "neg_df.head()"
   ]
  },
  {
   "cell_type": "code",
   "execution_count": 7,
   "metadata": {},
   "outputs": [],
   "source": [
    "test = pd.read_csv(\"./neg_df.csv\")\n",
    "X_test = test['내용']\n",
    "X_test = X_test.drop_duplicates()\n",
    "X_test = X_test.reset_index(drop=True)"
   ]
  },
  {
   "cell_type": "code",
   "execution_count": 8,
   "metadata": {},
   "outputs": [
    {
     "data": {
      "text/plain": [
       "0         \"어휴 열섬현상이랑 여름에 차 지나갈때 바닥에서 뜨거운열기 쏟아지는거 생각하면 정말...\n",
       "1         \"아 쫌 중국한테 지랄좀해라 쫌!!!! 우리애들 한달째 기침이 안떨어진다고!!!! ...\n",
       "2         \"어이구 차라리 가만있어라  자동차가 아니란걸 알면서  와카노  그럼 여름에는 왜 ...\n",
       "3         \"이간질 당하는 것 같은 이 찝찝함.. 정작 가해자는 잊혀 지고 제대로 보상받아야 ...\n",
       "4         [김남혁의 암치료] 암의 원인이 되는 활성산소 - 에덴요양병원 http://me2....\n",
       "                                ...                        \n",
       "181082    \"중국이 문제이긴 하지만 중국은 한번 규제하면 강력하게 규제합니다. 그러나 우리나라...\n",
       "181083                         \"야구장가봐라. 최악이다. 돈내고입장하니 막버린다\"\n",
       "181084    \"몰랐다 하면 죄가 가벼워질줄아나 ㅡ 뻔히 밭인거 알면서 농산물 훔치는 넘들이 젤 ...\n",
       "181085    2. 이런자들이 정의를 외치고 대통령을 팔아 문파를 외치고, 정치권에 기웃거리며 본...\n",
       "181086    http://bit.ly/13BT2De 경기도 시화호 사례 참고 하면... 이명박-...\n",
       "Name: 내용, Length: 181087, dtype: object"
      ]
     },
     "execution_count": 8,
     "metadata": {},
     "output_type": "execute_result"
    }
   ],
   "source": [
    "X_test"
   ]
  }
 ],
 "metadata": {
  "kernelspec": {
   "display_name": "Python 3",
   "language": "python",
   "name": "python3"
  },
  "language_info": {
   "codemirror_mode": {
    "name": "ipython",
    "version": 3
   },
   "file_extension": ".py",
   "mimetype": "text/x-python",
   "name": "python",
   "nbconvert_exporter": "python",
   "pygments_lexer": "ipython3",
   "version": "3.6.7"
  }
 },
 "nbformat": 4,
 "nbformat_minor": 2
}
