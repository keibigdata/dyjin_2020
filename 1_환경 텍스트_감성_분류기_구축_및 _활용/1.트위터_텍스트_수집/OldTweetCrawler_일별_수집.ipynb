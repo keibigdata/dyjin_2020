{
 "cells": [
  {
   "cell_type": "markdown",
   "metadata": {},
   "source": [
    "# 트위터 검색어 기반 크롤링 소스코드\n",
    "\n",
    "* 참고자료 : https://jeongwookie.github.io/2019/06/10/190610-twitter-data-crawling/"
   ]
  },
  {
   "cell_type": "code",
   "execution_count": null,
   "metadata": {},
   "outputs": [],
   "source": [
    "import GetOldTweets3 as got\n",
    "from bs4 import BeautifulSoup\n",
    "import time\n",
    "from random import uniform\n",
    "from tqdm import tqdm_notebook\n",
    "import datetime\n",
    "import pandas as pd\n",
    "import os\n",
    "import time \n",
    "from dateutil.relativedelta import *"
   ]
  },
  {
   "cell_type": "code",
   "execution_count": null,
   "metadata": {},
   "outputs": [],
   "source": [
    "keyword_df = pd.read_excel(\"키워드_수정.xlsx\")\n",
    "keyword_list = keyword_df['키워드'].tolist()\n",
    "search_list = keyword_df['검색식'].tolist()\n",
    "\n",
    "search_list = search_list[1:]\n",
    "s = search_list[0]\n",
    "keyword_list = keyword_list[1:]"
   ]
  },
  {
   "cell_type": "code",
   "execution_count": null,
   "metadata": {
    "scrolled": true
   },
   "outputs": [],
   "source": [
    "# 가져올 범위를 정의\n",
    "for i,s in enumerate(search_list): \n",
    "    tweet_df = pd.DataFrame(columns=['날짜','종류','키워드','내용'])\n",
    "    \n",
    "    fn = \"./data/\" + keyword_list[i] + \".txt\"\n",
    "    print(fn)\n",
    "    if(os.path.exists(fn)):\n",
    "        print(\"걸림\")\n",
    "        continue\n",
    "        \n",
    "    for y in range(2010,2020):\n",
    "        for m in range(1,13):\n",
    "            for d in range(1,31):\n",
    "                print(str(y) + \"-\" + str(m))\n",
    "\n",
    "                days_range = []\n",
    "\n",
    "                try:\n",
    "                    d = datetime.datetime.strptime(str(y) + \"-\" + str(m) + \"-\" + str(d), \"%Y-%m-%d\")\n",
    "                except:\n",
    "                    continue\n",
    "                start=  d\n",
    "                end = d + relativedelta(days=1)\n",
    "\n",
    "\n",
    "                date_generated = [start + datetime.timedelta(days=x) for x in range(0, (end-start).days)]\n",
    "                print(date_generated)\n",
    "                \n",
    "                for date in date_generated:\n",
    "                    days_range.append(date.strftime(\"%Y-%m-%d\"))\n",
    "\n",
    "                start_date = days_range[0] \n",
    "                end_date = (datetime.datetime.strptime(days_range[-1], \"%Y-%m-%d\") \n",
    "                + datetime.timedelta(days=1)).strftime(\"%Y-%m-%d\") # setUntil이 끝을 포함하지 않으므로, day + 1\\\n",
    "\n",
    "                print(\"=== 설정된 트윗 수집 기간은 {} 에서 {} 까지 입니다 ===\".format(days_range[0], days_range[-1]))\n",
    "                print(\"=== 총 {}일 간의 데이터 수집 ===\".format(len(days_range)))\n",
    "\n",
    "\n",
    "                while True :\n",
    "                    try :\n",
    "                        tweetCriteria = got.manager.TweetCriteria().setQuerySearch(s)\\\n",
    "                                                                   .setSince(start_date)\\\n",
    "                                                                   .setUntil(end_date)\\\n",
    "                                                                   .setMaxTweets(-1)\n",
    "                        start_time = time.time()\n",
    "\n",
    "\n",
    "                        tweet = got.manager.TweetManager.getTweets(tweetCriteria,bufferLength=10000000)\n",
    "\n",
    "                        print(\"오긴하제?\")\n",
    "                        log = \"Collecting data start.. from {} to {}\".format(days_range[0], days_range[-1])\n",
    "                        log = log + \"Collecting data end.. {0:0.2f} Minutes\".format((time.time() - start_time)/60) + \"\\n\"\n",
    "                        log = log + \"=== Total num of tweets is {} ===\".format(len(tweet))\n",
    "\n",
    "                        #f.write(log)\n",
    "\n",
    "                        time.sleep(uniform(1,5))         \n",
    "                        break\n",
    "\n",
    "                    except :    \n",
    "                        print(\"error\")\n",
    "                        time.sleep(uniform(100,300))    \n",
    "                        print(\"restart\")\n",
    "                \n",
    "                \n",
    "                # 수집 with GetOldTweet3\n",
    "\n",
    "                tweet_list = []\n",
    "                for index in tweet:\n",
    "                    content = index.text\n",
    "                    tweet_date = index.date.strftime(\"%Y-%m-%d\")\n",
    "\n",
    "                    # 결과 합치기\n",
    "                    info_list = [tweet_date,'트위터',keyword_list[i],content]\n",
    "                    tweet_list.append(info_list)\n",
    "\n",
    "                    # 휴식 \n",
    "                    #time.sleep(uniform(0,2))\n",
    "\n",
    "                temp_df = pd.DataFrame(tweet_list,columns=['날짜','종류','키워드','내용'])\n",
    "                temp_df = temp_df.sort_values('날짜',ascending=False)\n",
    "                tweet_df = pd.concat([tweet_df,temp_df])\n",
    "                tweet_df = tweet_df.drop_duplicates(['내용'])\n",
    "                tweet_df = tweet_df.reset_index(drop=True)\n",
    "            \n",
    "    tweet_df.to_csv(fn,index=False)"
   ]
  },
  {
   "cell_type": "code",
   "execution_count": null,
   "metadata": {},
   "outputs": [],
   "source": [
    "\n",
    "tweetCriteria = got.manager.TweetCriteria().setQuerySearch('유전자 AND (작물)')\\\n",
    "                                           .setSince('2010-01-01')\\\n",
    "                                           .setUntil('2010-01-02')\\\n",
    "                                           .setMaxTweets(-1)\n",
    "\n",
    "tweet = got.manager.TweetManager.getTweets(tweetCriteria,bufferLength=10000000)\n"
   ]
  },
  {
   "cell_type": "code",
   "execution_count": null,
   "metadata": {},
   "outputs": [],
   "source": [
    "tweet"
   ]
  }
 ],
 "metadata": {
  "kernelspec": {
   "display_name": "Python 3",
   "language": "python",
   "name": "python3"
  },
  "language_info": {
   "codemirror_mode": {
    "name": "ipython",
    "version": 3
   },
   "file_extension": ".py",
   "mimetype": "text/x-python",
   "name": "python",
   "nbconvert_exporter": "python",
   "pygments_lexer": "ipython3",
   "version": "3.6.7"
  }
 },
 "nbformat": 4,
 "nbformat_minor": 2
}
