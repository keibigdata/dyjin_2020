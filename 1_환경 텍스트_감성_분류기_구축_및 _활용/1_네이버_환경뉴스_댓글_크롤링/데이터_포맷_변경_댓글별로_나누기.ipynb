{
 "cells": [
  {
   "cell_type": "code",
   "execution_count": 1,
   "metadata": {},
   "outputs": [],
   "source": [
    "import pandas as pd\n",
    "import numpy as np\n",
    "import math"
   ]
  },
  {
   "cell_type": "code",
   "execution_count": 2,
   "metadata": {},
   "outputs": [],
   "source": [
    "df = pd.read_csv(\"./2020_2020_E.csv\")\n",
    "#df2 = pd.read_csv(\"./2018_2019_2.csv\")"
   ]
  },
  {
   "cell_type": "code",
   "execution_count": 3,
   "metadata": {},
   "outputs": [],
   "source": [
    "#df = pd.concat([df1,df2])\n",
    "df = df[['date','title','comments']]"
   ]
  },
  {
   "cell_type": "code",
   "execution_count": 4,
   "metadata": {},
   "outputs": [],
   "source": [
    "df = df.drop_duplicates()\n",
    "df = df.reset_index()\n",
    "df.columns = ['no','date','title','comments']"
   ]
  },
  {
   "cell_type": "code",
   "execution_count": 5,
   "metadata": {},
   "outputs": [],
   "source": [
    "result_df1 = df[['no','date','title']]"
   ]
  },
  {
   "cell_type": "code",
   "execution_count": 6,
   "metadata": {},
   "outputs": [],
   "source": [
    "result_df2 = df.loc[-pd.isna(df['comments']),:]"
   ]
  },
  {
   "cell_type": "code",
   "execution_count": 7,
   "metadata": {},
   "outputs": [],
   "source": [
    "result_df2 = result_df2.reset_index(drop=True)"
   ]
  },
  {
   "cell_type": "code",
   "execution_count": 8,
   "metadata": {},
   "outputs": [],
   "source": [
    "result_list = []\n",
    "for idx, row in result_df2.iterrows():\n",
    "    c_list = row['comments'].split(\" @&/&@ \")\n",
    "    for c in c_list:\n",
    "        temp = list(row[['no','date','title']])\n",
    "        temp.append(c)\n",
    "        result_list.append(temp)"
   ]
  },
  {
   "cell_type": "code",
   "execution_count": 9,
   "metadata": {},
   "outputs": [],
   "source": [
    "result_df = pd.DataFrame(result_list)"
   ]
  },
  {
   "cell_type": "code",
   "execution_count": 10,
   "metadata": {},
   "outputs": [
    {
     "data": {
      "text/html": [
       "<div>\n",
       "<style scoped>\n",
       "    .dataframe tbody tr th:only-of-type {\n",
       "        vertical-align: middle;\n",
       "    }\n",
       "\n",
       "    .dataframe tbody tr th {\n",
       "        vertical-align: top;\n",
       "    }\n",
       "\n",
       "    .dataframe thead th {\n",
       "        text-align: right;\n",
       "    }\n",
       "</style>\n",
       "<table border=\"1\" class=\"dataframe\">\n",
       "  <thead>\n",
       "    <tr style=\"text-align: right;\">\n",
       "      <th></th>\n",
       "      <th>0</th>\n",
       "      <th>1</th>\n",
       "      <th>2</th>\n",
       "      <th>3</th>\n",
       "    </tr>\n",
       "  </thead>\n",
       "  <tbody>\n",
       "    <tr>\n",
       "      <th>0</th>\n",
       "      <td>1</td>\n",
       "      <td>2020-01-01</td>\n",
       "      <td>[날씨] 중부지방 곳곳 오전에 눈발…미세먼지 '보통'∼'나쁨'</td>\n",
       "      <td>\"국외미세먼지가 아니고  중국발이다.\"</td>\n",
       "    </tr>\n",
       "    <tr>\n",
       "      <th>1</th>\n",
       "      <td>1</td>\n",
       "      <td>2020-01-01</td>\n",
       "      <td>[날씨] 중부지방 곳곳 오전에 눈발…미세먼지 '보통'∼'나쁨'</td>\n",
       "      <td>\"미세먼지가 아니라 미세중금속이다.\\n정부는 공기중에 떠다니든 미세중금속들이 국민건...</td>\n",
       "    </tr>\n",
       "    <tr>\n",
       "      <th>2</th>\n",
       "      <td>1</td>\n",
       "      <td>2020-01-01</td>\n",
       "      <td>[날씨] 중부지방 곳곳 오전에 눈발…미세먼지 '보통'∼'나쁨'</td>\n",
       "      <td>\"짱꼐들이 인천건너편에 쓰레기 소각장 화력발전 대거 짓는데 이 친중정권 문가는 입닫...</td>\n",
       "    </tr>\n",
       "    <tr>\n",
       "      <th>3</th>\n",
       "      <td>1</td>\n",
       "      <td>2020-01-01</td>\n",
       "      <td>[날씨] 중부지방 곳곳 오전에 눈발…미세먼지 '보통'∼'나쁨'</td>\n",
       "      <td>\"1.2도정도 차이나면 이해 가는데, 아침 최저기온은 －6∼2도, 낮 최고기온은 3...</td>\n",
       "    </tr>\n",
       "    <tr>\n",
       "      <th>4</th>\n",
       "      <td>1</td>\n",
       "      <td>2020-01-01</td>\n",
       "      <td>[날씨] 중부지방 곳곳 오전에 눈발…미세먼지 '보통'∼'나쁨'</td>\n",
       "      <td>\"재앙의나라\"</td>\n",
       "    </tr>\n",
       "    <tr>\n",
       "      <th>...</th>\n",
       "      <td>...</td>\n",
       "      <td>...</td>\n",
       "      <td>...</td>\n",
       "      <td>...</td>\n",
       "    </tr>\n",
       "    <tr>\n",
       "      <th>95980</th>\n",
       "      <td>41672</td>\n",
       "      <td>2020-09-01</td>\n",
       "      <td>마이삭 오늘 저녁 제주부터 영향…내일 전국 강풍에 최대 400㎜ 폭우</td>\n",
       "      <td>\"길르앗에 우거하는 자 중에 디셉 사람 엘리야가 아합에게 고하되 나의 섬기는 이스라...</td>\n",
       "    </tr>\n",
       "    <tr>\n",
       "      <th>95981</th>\n",
       "      <td>41672</td>\n",
       "      <td>2020-09-01</td>\n",
       "      <td>마이삭 오늘 저녁 제주부터 영향…내일 전국 강풍에 최대 400㎜ 폭우</td>\n",
       "      <td>\"이미일본으로갔음 마이삭\"</td>\n",
       "    </tr>\n",
       "    <tr>\n",
       "      <th>95982</th>\n",
       "      <td>41672</td>\n",
       "      <td>2020-09-01</td>\n",
       "      <td>마이삭 오늘 저녁 제주부터 영향…내일 전국 강풍에 최대 400㎜ 폭우</td>\n",
       "      <td>\"이게다 죄앙덕분이다\"</td>\n",
       "    </tr>\n",
       "    <tr>\n",
       "      <th>95983</th>\n",
       "      <td>41672</td>\n",
       "      <td>2020-09-01</td>\n",
       "      <td>마이삭 오늘 저녁 제주부터 영향…내일 전국 강풍에 최대 400㎜ 폭우</td>\n",
       "      <td>\"바람이 얼마나 부나 보긴할껀데 내 예상인 봄비보단 조금많이 오고 바람은 그냥 좀 ...</td>\n",
       "    </tr>\n",
       "    <tr>\n",
       "      <th>95984</th>\n",
       "      <td>41672</td>\n",
       "      <td>2020-09-01</td>\n",
       "      <td>마이삭 오늘 저녁 제주부터 영향…내일 전국 강풍에 최대 400㎜ 폭우</td>\n",
       "      <td>\"쌍도 친일 신천지 코로나 전범 소굴좀 청소해라\"</td>\n",
       "    </tr>\n",
       "  </tbody>\n",
       "</table>\n",
       "<p>95985 rows × 4 columns</p>\n",
       "</div>"
      ],
      "text/plain": [
       "           0           1                                       2  \\\n",
       "0          1  2020-01-01      [날씨] 중부지방 곳곳 오전에 눈발…미세먼지 '보통'∼'나쁨'   \n",
       "1          1  2020-01-01      [날씨] 중부지방 곳곳 오전에 눈발…미세먼지 '보통'∼'나쁨'   \n",
       "2          1  2020-01-01      [날씨] 중부지방 곳곳 오전에 눈발…미세먼지 '보통'∼'나쁨'   \n",
       "3          1  2020-01-01      [날씨] 중부지방 곳곳 오전에 눈발…미세먼지 '보통'∼'나쁨'   \n",
       "4          1  2020-01-01      [날씨] 중부지방 곳곳 오전에 눈발…미세먼지 '보통'∼'나쁨'   \n",
       "...      ...         ...                                     ...   \n",
       "95980  41672  2020-09-01  마이삭 오늘 저녁 제주부터 영향…내일 전국 강풍에 최대 400㎜ 폭우   \n",
       "95981  41672  2020-09-01  마이삭 오늘 저녁 제주부터 영향…내일 전국 강풍에 최대 400㎜ 폭우   \n",
       "95982  41672  2020-09-01  마이삭 오늘 저녁 제주부터 영향…내일 전국 강풍에 최대 400㎜ 폭우   \n",
       "95983  41672  2020-09-01  마이삭 오늘 저녁 제주부터 영향…내일 전국 강풍에 최대 400㎜ 폭우   \n",
       "95984  41672  2020-09-01  마이삭 오늘 저녁 제주부터 영향…내일 전국 강풍에 최대 400㎜ 폭우   \n",
       "\n",
       "                                                       3  \n",
       "0                                  \"국외미세먼지가 아니고  중국발이다.\"  \n",
       "1      \"미세먼지가 아니라 미세중금속이다.\\n정부는 공기중에 떠다니든 미세중금속들이 국민건...  \n",
       "2      \"짱꼐들이 인천건너편에 쓰레기 소각장 화력발전 대거 짓는데 이 친중정권 문가는 입닫...  \n",
       "3      \"1.2도정도 차이나면 이해 가는데, 아침 최저기온은 －6∼2도, 낮 최고기온은 3...  \n",
       "4                                                \"재앙의나라\"  \n",
       "...                                                  ...  \n",
       "95980  \"길르앗에 우거하는 자 중에 디셉 사람 엘리야가 아합에게 고하되 나의 섬기는 이스라...  \n",
       "95981                                     \"이미일본으로갔음 마이삭\"  \n",
       "95982                                       \"이게다 죄앙덕분이다\"  \n",
       "95983  \"바람이 얼마나 부나 보긴할껀데 내 예상인 봄비보단 조금많이 오고 바람은 그냥 좀 ...  \n",
       "95984                        \"쌍도 친일 신천지 코로나 전범 소굴좀 청소해라\"  \n",
       "\n",
       "[95985 rows x 4 columns]"
      ]
     },
     "execution_count": 10,
     "metadata": {},
     "output_type": "execute_result"
    }
   ],
   "source": [
    "result_df"
   ]
  },
  {
   "cell_type": "code",
   "execution_count": 22,
   "metadata": {
    "scrolled": true
   },
   "outputs": [
    {
     "name": "stderr",
     "output_type": "stream",
     "text": [
      "/usr/local/lib/python3.6/dist-packages/pandas/compat/_optional.py:106: UserWarning: Pandas requires version '0.9.8' or newer of 'xlsxwriter' (version '0.7.3' currently installed).\n",
      "  warnings.warn(msg, UserWarning)\n"
     ]
    }
   ],
   "source": [
    "result_df.to_excel(\"./naver_comments_long2.xlsx\")"
   ]
  }
 ],
 "metadata": {
  "kernelspec": {
   "display_name": "Python 3",
   "language": "python",
   "name": "python3"
  },
  "language_info": {
   "codemirror_mode": {
    "name": "ipython",
    "version": 3
   },
   "file_extension": ".py",
   "mimetype": "text/x-python",
   "name": "python",
   "nbconvert_exporter": "python",
   "pygments_lexer": "ipython3",
   "version": "3.6.7"
  }
 },
 "nbformat": 4,
 "nbformat_minor": 2
}
